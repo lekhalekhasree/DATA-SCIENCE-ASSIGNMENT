{
 "cells": [
  {
   "cell_type": "code",
   "execution_count": 1,
   "id": "8b9e266c",
   "metadata": {
    "ExecuteTime": {
     "end_time": "2022-11-07T07:59:11.741190Z",
     "start_time": "2022-11-07T07:59:10.966986Z"
    }
   },
   "outputs": [],
   "source": [
    "from scipy import stats\n",
    "from scipy.stats import norm \n"
   ]
  },
  {
   "cell_type": "code",
   "execution_count": 2,
   "id": "8f02a879",
   "metadata": {
    "ExecuteTime": {
     "end_time": "2022-11-07T07:59:22.804337Z",
     "start_time": "2022-11-07T07:59:22.760823Z"
    }
   },
   "outputs": [
    {
     "data": {
      "text/plain": [
       "1.6448536269514722"
      ]
     },
     "execution_count": 2,
     "metadata": {},
     "output_type": "execute_result"
    }
   ],
   "source": [
    "# Z-score of 90% confidence interval \n",
    "stats.norm.ppf(0.95)\n"
   ]
  },
  {
   "cell_type": "code",
   "execution_count": 3,
   "id": "8aa80440",
   "metadata": {
    "ExecuteTime": {
     "end_time": "2022-11-07T07:59:36.576969Z",
     "start_time": "2022-11-07T07:59:36.556183Z"
    }
   },
   "outputs": [
    {
     "data": {
      "text/plain": [
       "1.8807936081512509"
      ]
     },
     "execution_count": 3,
     "metadata": {},
     "output_type": "execute_result"
    }
   ],
   "source": [
    "# Z-score of 94% confidence interval\n",
    "stats.norm.ppf(0.97)\n"
   ]
  },
  {
   "cell_type": "code",
   "execution_count": 4,
   "id": "88526f3d",
   "metadata": {
    "ExecuteTime": {
     "end_time": "2022-11-07T07:59:47.769120Z",
     "start_time": "2022-11-07T07:59:47.751819Z"
    }
   },
   "outputs": [
    {
     "data": {
      "text/plain": [
       "0.8416212335729143"
      ]
     },
     "execution_count": 4,
     "metadata": {},
     "output_type": "execute_result"
    }
   ],
   "source": [
    "# Z-score of 60% confidence interval\n",
    "stats.norm.ppf(0.8)\n"
   ]
  }
 ],
 "metadata": {
  "kernelspec": {
   "display_name": "Python 3 (ipykernel)",
   "language": "python",
   "name": "python3"
  },
  "language_info": {
   "codemirror_mode": {
    "name": "ipython",
    "version": 3
   },
   "file_extension": ".py",
   "mimetype": "text/x-python",
   "name": "python",
   "nbconvert_exporter": "python",
   "pygments_lexer": "ipython3",
   "version": "3.9.12"
  }
 },
 "nbformat": 4,
 "nbformat_minor": 5
}

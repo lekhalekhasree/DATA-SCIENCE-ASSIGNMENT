{
 "cells": [
  {
   "cell_type": "code",
   "execution_count": 5,
   "id": "7b2f8fe7",
   "metadata": {
    "ExecuteTime": {
     "end_time": "2022-11-07T08:06:20.544485Z",
     "start_time": "2022-11-07T08:06:20.529130Z"
    }
   },
   "outputs": [],
   "source": [
    "from scipy import stats\n",
    "from scipy.stats import norm"
   ]
  },
  {
   "cell_type": "code",
   "execution_count": 1,
   "id": "d5f85425",
   "metadata": {
    "ExecuteTime": {
     "end_time": "2022-11-07T08:05:06.192211Z",
     "start_time": "2022-11-07T08:05:06.177090Z"
    }
   },
   "outputs": [],
   "source": [
    "# Assume Null Hypothesis is: Ho = Avg life of Bulb >= 260 days\n",
    "# Alternate Hypothesis is: Ha = Avg life of Bulb < 260 days"
   ]
  },
  {
   "cell_type": "code",
   "execution_count": 2,
   "id": "634ec11f",
   "metadata": {
    "ExecuteTime": {
     "end_time": "2022-11-07T08:05:37.198126Z",
     "start_time": "2022-11-07T08:05:37.150882Z"
    }
   },
   "outputs": [
    {
     "data": {
      "text/plain": [
       "-0.4714045207910317"
      ]
     },
     "execution_count": 2,
     "metadata": {},
     "output_type": "execute_result"
    }
   ],
   "source": [
    "# find t-scores at x=260; t=(s_mean-P_mean)/(s_SD/sqrt(n))\n",
    "t=(260-270)/(90/18**0.5)\n",
    "t\n"
   ]
  },
  {
   "cell_type": "code",
   "execution_count": 3,
   "id": "cb5fa21c",
   "metadata": {
    "ExecuteTime": {
     "end_time": "2022-11-07T08:05:53.176999Z",
     "start_time": "2022-11-07T08:05:53.152523Z"
    }
   },
   "outputs": [],
   "source": [
    "# Find P(X>=260) for null hypothesis\n"
   ]
  },
  {
   "cell_type": "code",
   "execution_count": 6,
   "id": "f3e5b108",
   "metadata": {
    "ExecuteTime": {
     "end_time": "2022-11-07T08:06:28.487494Z",
     "start_time": "2022-11-07T08:06:28.461010Z"
    }
   },
   "outputs": [
    {
     "data": {
      "text/plain": [
       "0.32167411684460556"
      ]
     },
     "execution_count": 6,
     "metadata": {},
     "output_type": "execute_result"
    }
   ],
   "source": [
    "# p_value=1-stats.t.cdf(abs(t_scores),df=n-1)... Using cdf function\n",
    "p_value=1-stats.t.cdf(abs(-0.4714),df=17)\n",
    "p_value\n"
   ]
  },
  {
   "cell_type": "code",
   "execution_count": 7,
   "id": "659f7fa4",
   "metadata": {
    "ExecuteTime": {
     "end_time": "2022-11-07T08:06:49.014501Z",
     "start_time": "2022-11-07T08:06:48.989124Z"
    }
   },
   "outputs": [
    {
     "data": {
      "text/plain": [
       "0.32167411684460556"
      ]
     },
     "execution_count": 7,
     "metadata": {},
     "output_type": "execute_result"
    }
   ],
   "source": [
    "#  OR p_value=stats.t.sf(abs(t_score),df=n-1)... Using sf function\n",
    "p_value=stats.t.sf(abs(-0.4714),df=17)\n",
    "p_value\n"
   ]
  }
 ],
 "metadata": {
  "kernelspec": {
   "display_name": "Python 3 (ipykernel)",
   "language": "python",
   "name": "python3"
  },
  "language_info": {
   "codemirror_mode": {
    "name": "ipython",
    "version": 3
   },
   "file_extension": ".py",
   "mimetype": "text/x-python",
   "name": "python",
   "nbconvert_exporter": "python",
   "pygments_lexer": "ipython3",
   "version": "3.9.12"
  }
 },
 "nbformat": 4,
 "nbformat_minor": 5
}

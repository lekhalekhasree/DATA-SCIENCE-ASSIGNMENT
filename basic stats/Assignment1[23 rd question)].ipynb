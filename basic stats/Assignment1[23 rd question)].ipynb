{
 "cells": [
  {
   "cell_type": "code",
   "execution_count": 1,
   "id": "fc104b36",
   "metadata": {
    "ExecuteTime": {
     "end_time": "2022-11-07T08:01:35.580796Z",
     "start_time": "2022-11-07T08:01:34.823982Z"
    }
   },
   "outputs": [],
   "source": [
    "from scipy import stats\n",
    "from scipy.stats import norm\n"
   ]
  },
  {
   "cell_type": "code",
   "execution_count": 2,
   "id": "be2f4d98",
   "metadata": {
    "ExecuteTime": {
     "end_time": "2022-11-07T08:01:47.042275Z",
     "start_time": "2022-11-07T08:01:47.002487Z"
    }
   },
   "outputs": [
    {
     "data": {
      "text/plain": [
       "2.0638985616280205"
      ]
     },
     "execution_count": 2,
     "metadata": {},
     "output_type": "execute_result"
    }
   ],
   "source": [
    "# t scores of 95% confidence interval for sample size of 25\n",
    "stats.t.ppf(0.975,24)  # df = n-1 = 24\n"
   ]
  },
  {
   "cell_type": "code",
   "execution_count": 3,
   "id": "ad75044c",
   "metadata": {
    "ExecuteTime": {
     "end_time": "2022-11-07T08:01:59.685464Z",
     "start_time": "2022-11-07T08:01:59.667552Z"
    }
   },
   "outputs": [
    {
     "data": {
      "text/plain": [
       "2.1715446760080677"
      ]
     },
     "execution_count": 3,
     "metadata": {},
     "output_type": "execute_result"
    }
   ],
   "source": [
    "# t scores of 96% confidence interval for sample size of 25\n",
    "stats.t.ppf(0.98,24)"
   ]
  },
  {
   "cell_type": "code",
   "execution_count": 4,
   "id": "705336e3",
   "metadata": {
    "ExecuteTime": {
     "end_time": "2022-11-07T08:02:12.923797Z",
     "start_time": "2022-11-07T08:02:12.895702Z"
    }
   },
   "outputs": [
    {
     "data": {
      "text/plain": [
       "2.796939504772804"
      ]
     },
     "execution_count": 4,
     "metadata": {},
     "output_type": "execute_result"
    }
   ],
   "source": [
    "# t scores of 99% confidence interval for sample size of 25\n",
    "stats.t.ppf(0.995,24)\n"
   ]
  }
 ],
 "metadata": {
  "kernelspec": {
   "display_name": "Python 3 (ipykernel)",
   "language": "python",
   "name": "python3"
  },
  "language_info": {
   "codemirror_mode": {
    "name": "ipython",
    "version": 3
   },
   "file_extension": ".py",
   "mimetype": "text/x-python",
   "name": "python",
   "nbconvert_exporter": "python",
   "pygments_lexer": "ipython3",
   "version": "3.9.12"
  }
 },
 "nbformat": 4,
 "nbformat_minor": 5
}
